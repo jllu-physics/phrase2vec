{
 "cells": [
  {
   "cell_type": "code",
   "execution_count": 2,
   "id": "05cfd499-1e3e-44c8-a452-7d9c63f2c76c",
   "metadata": {},
   "outputs": [],
   "source": [
    "from gensim.models import KeyedVectors\n",
    "import numpy as np"
   ]
  },
  {
   "cell_type": "code",
   "execution_count": 3,
   "id": "107cde0b-2ca3-4326-8f1e-3f289d0fb151",
   "metadata": {},
   "outputs": [],
   "source": [
    "pv = KeyedVectors.load(\"phrase2vec_lift100.wordvectors\", mmap='r')"
   ]
  },
  {
   "cell_type": "code",
   "execution_count": 79,
   "id": "bdc412b8-7c6a-48f0-93fb-95ca9abf909c",
   "metadata": {},
   "outputs": [
    {
     "data": {
      "text/plain": [
       "31427"
      ]
     },
     "execution_count": 79,
     "metadata": {},
     "output_type": "execute_result"
    }
   ],
   "source": [
    "len(pv)"
   ]
  },
  {
   "cell_type": "code",
   "execution_count": 4,
   "id": "10b09986-2cfd-49bd-8498-a83e2acb0bd5",
   "metadata": {},
   "outputs": [],
   "source": [
    "wv = KeyedVectors.load(\"word2vec.wordvectors\", mmap='r')"
   ]
  },
  {
   "cell_type": "code",
   "execution_count": 5,
   "id": "38073cf5-551a-4e04-94d1-9a89194197f0",
   "metadata": {},
   "outputs": [],
   "source": [
    "p2v_word_mean = {}\n",
    "for key in pv.key_to_index:\n",
    "    if '_' in key:\n",
    "        words = key.split('_')\n",
    "        mean_embedding = np.mean([wv[word] for word in words if word in wv], axis=0)\n",
    "        p2v_word_mean[key] = mean_embedding\n",
    "    else:\n",
    "        p2v_word_mean[key] = wv[key]"
   ]
  },
  {
   "cell_type": "code",
   "execution_count": 6,
   "id": "20d8c0a1-683a-4a54-aba3-727ca5f3297e",
   "metadata": {},
   "outputs": [],
   "source": [
    "def find_most_similar(query, k):\n",
    "    sim = {}\n",
    "    for key in p2v_word_mean:\n",
    "        sim[key] = p2v_word_mean[query].dot(p2v_word_mean[key])/ \\\n",
    "            np.sqrt(p2v_word_mean[query].dot(p2v_word_mean[query])* \\\n",
    "                    p2v_word_mean[key].dot(p2v_word_mean[key]))\n",
    "    top_key = sorted(sim, key=sim.get, reverse=True)[1:k+2]\n",
    "    return [(k, sim[k]) for k in top_key]"
   ]
  },
  {
   "cell_type": "code",
   "execution_count": 6,
   "id": "58152240-0ed3-4162-abf3-f3e00335eb69",
   "metadata": {},
   "outputs": [
    {
     "data": {
      "text/plain": [
       "[('lamb', 0.8791162),\n",
       " ('lamb_curry', 0.8530713),\n",
       " ('lamb_shank', 0.84399647),\n",
       " ('lamb_chops', 0.7885425),\n",
       " ('vindaloo', 0.78581935),\n",
       " ('lamb_chop', 0.76653695),\n",
       " ('chicken_tikka_masala', 0.7468595),\n",
       " ('beef_and_lamb', 0.72007996),\n",
       " ('tandoori_chicken', 0.6969937),\n",
       " ('chicken_tikka', 0.6876602),\n",
       " ('tikka_masala', 0.66615516)]"
      ]
     },
     "execution_count": 6,
     "metadata": {},
     "output_type": "execute_result"
    }
   ],
   "source": [
    "find_most_similar('lamb_vindaloo',10) #using word embedding"
   ]
  },
  {
   "cell_type": "code",
   "execution_count": 7,
   "id": "ea046059-599f-4402-af15-644c8e01c62a",
   "metadata": {},
   "outputs": [
    {
     "data": {
      "text/plain": [
       "[('chicken_tikka_masala', 0.7488511204719543),\n",
       " ('saag_paneer', 0.7111663818359375),\n",
       " ('lamb_curry', 0.708605170249939),\n",
       " ('palak_paneer', 0.6865326762199402),\n",
       " ('tikka_masala', 0.6855555772781372),\n",
       " ('korma', 0.6831828951835632),\n",
       " ('masala', 0.6779918074607849),\n",
       " ('chicken_tikka', 0.6693699955940247),\n",
       " ('paneer', 0.6684088110923767),\n",
       " ('vindaloo', 0.6666150093078613)]"
      ]
     },
     "execution_count": 7,
     "metadata": {},
     "output_type": "execute_result"
    }
   ],
   "source": [
    "pv.most_similar('lamb_vindaloo', topn=10)#using phrase embedding"
   ]
  },
  {
   "cell_type": "code",
   "execution_count": 8,
   "id": "86662c9c-5510-4201-92a4-0882cca53882",
   "metadata": {},
   "outputs": [
    {
     "data": {
      "text/plain": [
       "[('ny_strip', 0.8653947),\n",
       " ('york_strip', 0.85459864),\n",
       " ('new_york_city', 0.8005393),\n",
       " ('new_york', 0.772062),\n",
       " ('new_york_new_york', 0.772062),\n",
       " ('strip_district', 0.73696554),\n",
       " ('ny_strip_steak', 0.73305225),\n",
       " ('york_new_york', 0.732925),\n",
       " ('strip', 0.72085136),\n",
       " ('strip_mall', 0.70849913),\n",
       " ('new_york_new', 0.6865122)]"
      ]
     },
     "execution_count": 8,
     "metadata": {},
     "output_type": "execute_result"
    }
   ],
   "source": [
    "find_most_similar('new_york_strip',10) #using word embedding"
   ]
  },
  {
   "cell_type": "code",
   "execution_count": 9,
   "id": "efbfb24a-608a-4a5b-8220-7dc15531e360",
   "metadata": {},
   "outputs": [
    {
     "data": {
      "text/plain": [
       "[('ny_strip', 0.8296418190002441),\n",
       " ('ribeye', 0.8121824264526367),\n",
       " ('bone_in_ribeye', 0.8084273338317871),\n",
       " ('rib_eye', 0.8067247271537781),\n",
       " ('porterhouse', 0.7969276905059814),\n",
       " ('bone_in_rib_eye', 0.7919773459434509),\n",
       " ('rib-eye', 0.7888673543930054),\n",
       " ('bone-in_rib_eye', 0.7803928852081299),\n",
       " ('filet', 0.7762506008148193),\n",
       " ('bone-in_ribeye', 0.7762439846992493)]"
      ]
     },
     "execution_count": 9,
     "metadata": {},
     "output_type": "execute_result"
    }
   ],
   "source": [
    "pv.most_similar('new_york_strip', topn=10) #using phrase embedding"
   ]
  },
  {
   "cell_type": "code",
   "execution_count": 10,
   "id": "4b4c144c-6fcf-46d8-a460-d510dd2b3137",
   "metadata": {},
   "outputs": [
    {
     "data": {
      "text/plain": [
       "[('back', 0.6323703),\n",
       " ('back_again_and_again', 0.5861801),\n",
       " ('spare_ribs', 0.5793356),\n",
       " ('ribs', 0.5698595),\n",
       " ('back_again_soon', 0.566648),\n",
       " ('back_and_forth', 0.5500201),\n",
       " ('back_here_anytime', 0.54154795),\n",
       " ('coming_back_here_again', 0.5373372),\n",
       " ('back_anytime_soon', 0.532756),\n",
       " ('louis_ribs', 0.522866),\n",
       " ('short_ribs', 0.5165845)]"
      ]
     },
     "execution_count": 10,
     "metadata": {},
     "output_type": "execute_result"
    }
   ],
   "source": [
    "find_most_similar('baby_back_ribs',10)"
   ]
  },
  {
   "cell_type": "code",
   "execution_count": 11,
   "id": "7b316c54-f90b-4b72-adb1-2f335300a153",
   "metadata": {},
   "outputs": [
    {
     "data": {
      "text/plain": [
       "[('ribs', 0.8342549204826355),\n",
       " ('rib_tips', 0.7303236722946167),\n",
       " ('pork_ribs', 0.7256657481193542),\n",
       " ('burnt_ends', 0.6881771087646484),\n",
       " ('brisket', 0.6801818013191223),\n",
       " ('bbq_ribs', 0.6708328723907471),\n",
       " ('pulled_pork', 0.6647703647613525),\n",
       " ('short_ribs', 0.6574428081512451),\n",
       " ('hot_links', 0.6508707404136658),\n",
       " ('collard_greens', 0.6412736177444458)]"
      ]
     },
     "execution_count": 11,
     "metadata": {},
     "output_type": "execute_result"
    }
   ],
   "source": [
    "pv.most_similar('baby_back_ribs', topn=10)"
   ]
  },
  {
   "cell_type": "code",
   "execution_count": 7,
   "id": "00053b03-2218-458b-b805-e49ad0e3a186",
   "metadata": {},
   "outputs": [
    {
     "data": {
      "text/plain": [
       "[('pao_chicken', 0.91306335),\n",
       " ('kung_pao', 0.8433067),\n",
       " ('cashew_chicken', 0.8346657),\n",
       " ('chicken_satay', 0.8125438),\n",
       " ('lemongrass_chicken', 0.8077635),\n",
       " ('tso_chicken', 0.7963175),\n",
       " ('chicken_chow_mein', 0.79090697),\n",
       " ('teriyaki_chicken', 0.78949845),\n",
       " ('chicken_teriyaki', 0.78949845),\n",
       " ('chicken_piccata', 0.7854986),\n",
       " ('chicken_lo_mein', 0.78493464)]"
      ]
     },
     "execution_count": 7,
     "metadata": {},
     "output_type": "execute_result"
    }
   ],
   "source": [
    "find_most_similar('kung_pao_chicken',10)"
   ]
  },
  {
   "cell_type": "code",
   "execution_count": 8,
   "id": "edbd19ef-a226-4553-83f4-8f1a0a906c26",
   "metadata": {},
   "outputs": [
    {
     "data": {
      "text/plain": [
       "[('mongolian_beef', 0.8343057632446289),\n",
       " ('orange_chicken', 0.8299736380577087),\n",
       " ('sesame_chicken', 0.7974308729171753),\n",
       " (\"general_tso_'s_chicken\", 0.7947790622711182),\n",
       " ('cashew_chicken', 0.7922334671020508),\n",
       " ('pad_thai', 0.7854003310203552),\n",
       " ('kung_pao', 0.775714099407196),\n",
       " ('sweet_and_sour_chicken', 0.7707173228263855),\n",
       " ('shrimp_fried_rice', 0.7630671262741089),\n",
       " ('pork_fried_rice', 0.7614849209785461)]"
      ]
     },
     "execution_count": 8,
     "metadata": {},
     "output_type": "execute_result"
    }
   ],
   "source": [
    "pv.most_similar('kung_pao_chicken', topn=10)"
   ]
  },
  {
   "cell_type": "code",
   "execution_count": 10,
   "id": "2bc3d144-d508-4723-8626-c2a5ccade055",
   "metadata": {},
   "outputs": [
    {
     "data": {
      "text/plain": [
       "[('pinot_grigio', 0.9361285),\n",
       " ('pinot', 0.93091065),\n",
       " ('noir', 0.882528),\n",
       " ('sauvignon_blanc', 0.75893784),\n",
       " ('cabernet', 0.7514704),\n",
       " ('chardonnay', 0.73922646),\n",
       " ('sauvignon', 0.72989905),\n",
       " ('malbec', 0.7277781),\n",
       " ('riesling', 0.71760803),\n",
       " ('merlot', 0.70418507),\n",
       " ('grigio', 0.69585043)]"
      ]
     },
     "execution_count": 10,
     "metadata": {},
     "output_type": "execute_result"
    }
   ],
   "source": [
    "find_most_similar('pinot_noir',10)"
   ]
  },
  {
   "cell_type": "code",
   "execution_count": 11,
   "id": "38a736a2-e077-4dfe-a48f-fbd8e6c69ac8",
   "metadata": {},
   "outputs": [
    {
     "data": {
      "text/plain": [
       "[('cabernet', 0.8143666386604309),\n",
       " ('sauvignon_blanc', 0.807169497013092),\n",
       " ('malbec', 0.8048314452171326),\n",
       " ('chardonnay', 0.7955701947212219),\n",
       " ('pinot', 0.782367467880249),\n",
       " ('pinot_grigio', 0.7725052833557129),\n",
       " ('riesling', 0.771155059337616),\n",
       " ('chianti', 0.7438011169433594),\n",
       " ('zinfandel', 0.731484055519104),\n",
       " ('merlot', 0.7242016792297363)]"
      ]
     },
     "execution_count": 11,
     "metadata": {},
     "output_type": "execute_result"
    }
   ],
   "source": [
    "pv.most_similar('pinot_noir', topn=10)"
   ]
  },
  {
   "cell_type": "code",
   "execution_count": 13,
   "id": "38e8fceb-7547-4005-aee5-132eb1c8b76b",
   "metadata": {},
   "outputs": [
    {
     "data": {
      "text/plain": [
       "[(\"player_'s_club\", 0.83763856),\n",
       " (\"earl_'s_club\", 0.8240331),\n",
       " (\"drai_'s\", 0.75260186),\n",
       " (\"capriotti_'s\", 0.726322),\n",
       " (\"hooter_'s\", 0.72298396),\n",
       " (\"durant_'s\", 0.7144961),\n",
       " (\"binion_'s\", 0.71343875),\n",
       " (\"aiello_'s\", 0.7125625),\n",
       " (\"quizno_'s\", 0.7118342),\n",
       " (\"albertson_'s\", 0.71011233),\n",
       " (\"barney_'s\", 0.7098357)]"
      ]
     },
     "execution_count": 13,
     "metadata": {},
     "output_type": "execute_result"
    }
   ],
   "source": [
    "find_most_similar('sam_\\'s_club',10)"
   ]
  },
  {
   "cell_type": "code",
   "execution_count": 14,
   "id": "76242e26-2340-4abe-8529-f3963f57a3e2",
   "metadata": {},
   "outputs": [
    {
     "data": {
      "text/plain": [
       "[('costco', 0.7229515910148621),\n",
       " ('safeway', 0.6636866331100464),\n",
       " ('smiths', 0.6525583267211914),\n",
       " ('vons', 0.6486243009567261),\n",
       " ('albertsons', 0.6460613012313843),\n",
       " ('wal-mart', 0.6422725915908813),\n",
       " ('walmart', 0.6411256790161133),\n",
       " ('trader_joes', 0.6409727931022644),\n",
       " ('harris_teeter', 0.6375798583030701),\n",
       " (\"walgreen_'s\", 0.6344089508056641)]"
      ]
     },
     "execution_count": 14,
     "metadata": {},
     "output_type": "execute_result"
    }
   ],
   "source": [
    "pv.most_similar('sam_\\'s_club', topn=10)"
   ]
  },
  {
   "cell_type": "code",
   "execution_count": 17,
   "id": "db50f06f-4579-4e46-9859-2eae9cfaf35d",
   "metadata": {},
   "outputs": [
    {
     "data": {
      "text/plain": [
       "[('pf_chang', 0.89560556),\n",
       " ('p.f_chang', 0.8303971),\n",
       " ('pf', 0.82601506),\n",
       " ('changs', 0.80465937),\n",
       " (\"pf_chang_'s\", 0.77812123),\n",
       " ('p.f', 0.7561961),\n",
       " (\"p.f_chang_'s\", 0.71766573),\n",
       " ('chang', 0.6680273),\n",
       " ('pei_wei', 0.5468824),\n",
       " (\"chang_'s\", 0.51083905),\n",
       " ('benihana', 0.49267817)]"
      ]
     },
     "execution_count": 17,
     "metadata": {},
     "output_type": "execute_result"
    }
   ],
   "source": [
    "find_most_similar('pf_changs',10)"
   ]
  },
  {
   "cell_type": "code",
   "execution_count": 20,
   "id": "41733df3-bfd7-4ea1-bac6-7fd55692e5b5",
   "metadata": {},
   "outputs": [
    {
     "data": {
      "text/plain": [
       "[('panda_express', 0.7061288356781006),\n",
       " (\"pf_chang_'s\", 0.7009183764457703),\n",
       " ('pei_wei', 0.6875666975975037),\n",
       " (\"p.f_chang_'s\", 0.6812081336975098),\n",
       " ('olive_garden', 0.6768958568572998),\n",
       " (\"applebee_'s\", 0.6190544962882996),\n",
       " ('cheesecake_factory', 0.6139678955078125),\n",
       " ('red_lobster', 0.5988444089889526),\n",
       " ('applebees', 0.5889335870742798),\n",
       " ('pf_chang', 0.585593044757843)]"
      ]
     },
     "execution_count": 20,
     "metadata": {},
     "output_type": "execute_result"
    }
   ],
   "source": [
    "pv.most_similar('pf_changs', topn=10)"
   ]
  },
  {
   "cell_type": "code",
   "execution_count": 25,
   "id": "a5c2da9d-9487-4aae-8733-df13aaac27d5",
   "metadata": {},
   "outputs": [
    {
     "data": {
      "text/plain": [
       "[('rock_hard', 1.0),\n",
       " ('hard_rock_cafe', 0.856652),\n",
       " ('hard_rock_hotel', 0.82923454),\n",
       " ('hard_core', 0.74773264),\n",
       " ('hard', 0.72075063),\n",
       " ('hard_as_a_rock', 0.69906884),\n",
       " ('hard_boiled', 0.652925),\n",
       " ('hard_pressed', 0.6483285),\n",
       " ('hard_earned', 0.633382),\n",
       " ('rock', 0.6032163),\n",
       " ('punk_rock', 0.599695)]"
      ]
     },
     "execution_count": 25,
     "metadata": {},
     "output_type": "execute_result"
    }
   ],
   "source": [
    "find_most_similar('hard_rock',10)"
   ]
  },
  {
   "cell_type": "code",
   "execution_count": 29,
   "id": "fd8c740c-120e-4f71-a914-85f21b009c9a",
   "metadata": {},
   "outputs": [
    {
     "data": {
      "text/plain": [
       "[('hard_rock_hotel', 0.7304854989051819),\n",
       " ('palms', 0.6729397773742676),\n",
       " ('cosmopolitan', 0.6459872722625732),\n",
       " ('aria', 0.6443426012992859),\n",
       " ('palazzo', 0.6422041058540344),\n",
       " ('mgm', 0.6409392356872559),\n",
       " ('hrh', 0.6386034488677979),\n",
       " ('mgm_grand', 0.6294108629226685),\n",
       " ('cosmo', 0.6285386681556702),\n",
       " ('ph', 0.6278110146522522)]"
      ]
     },
     "execution_count": 29,
     "metadata": {},
     "output_type": "execute_result"
    }
   ],
   "source": [
    "pv.most_similar('hard_rock', topn=10)"
   ]
  },
  {
   "cell_type": "code",
   "execution_count": 36,
   "id": "61f4307c-111b-4450-99cf-643f344ecbef",
   "metadata": {},
   "outputs": [
    {
     "data": {
      "text/plain": [
       "[('kfc', 0.705366),\n",
       " ('bojangles', 0.6690155),\n",
       " ('chick-fil-a', 0.5833295),\n",
       " ('popeye', 0.56570756),\n",
       " ('bww', 0.4792011),\n",
       " ('chipotle', 0.47888282),\n",
       " ('robertos', 0.47694096),\n",
       " ('qdoba', 0.4671259),\n",
       " ('filibertos', 0.4663027),\n",
       " ('canes', 0.4635705),\n",
       " ('mcdonalds', 0.4635311)]"
      ]
     },
     "execution_count": 36,
     "metadata": {},
     "output_type": "execute_result"
    }
   ],
   "source": [
    "find_most_similar('popeyes',10)"
   ]
  },
  {
   "cell_type": "code",
   "execution_count": 35,
   "id": "de723336-d6d3-4ce3-9479-9869a83836da",
   "metadata": {},
   "outputs": [
    {
     "data": {
      "text/plain": [
       "[(\"popeye_'s\", 0.7539619207382202),\n",
       " ('kfc', 0.709630012512207),\n",
       " ('bojangles', 0.6601171493530273),\n",
       " (\"raising_cane_'s\", 0.6541659235954285),\n",
       " ('el_pollo_loco', 0.6286672949790955),\n",
       " ('chick-fil-a', 0.6056889295578003),\n",
       " ('pei_wei', 0.5833148956298828),\n",
       " (\"wendy_'s\", 0.5761545300483704),\n",
       " ('cafe_rio', 0.5572197437286377),\n",
       " ('panda_express', 0.55351722240448)]"
      ]
     },
     "execution_count": 35,
     "metadata": {},
     "output_type": "execute_result"
    }
   ],
   "source": [
    "pv.most_similar('popeyes', topn=10)"
   ]
  },
  {
   "cell_type": "code",
   "execution_count": 37,
   "id": "f1bf3c24-0d48-4290-a14b-e0eb76659330",
   "metadata": {},
   "outputs": [
    {
     "data": {
      "text/plain": [
       "[('red_snapper', 0.795673),\n",
       " ('red_cabbage', 0.77814925),\n",
       " ('lobster', 0.7648751),\n",
       " ('maine_lobster', 0.76420563),\n",
       " ('red', 0.75623924),\n",
       " ('lobster_tail', 0.74554),\n",
       " ('red_chile', 0.7334207),\n",
       " ('red_curry', 0.73264354),\n",
       " ('shrimp_and_lobster', 0.7321305),\n",
       " ('red_chili', 0.731391),\n",
       " ('red_mango', 0.72913235)]"
      ]
     },
     "execution_count": 37,
     "metadata": {},
     "output_type": "execute_result"
    }
   ],
   "source": [
    "find_most_similar('red_lobster',10)"
   ]
  },
  {
   "cell_type": "code",
   "execution_count": 38,
   "id": "7e930ed6-ece5-4f40-ab56-d7f007b64740",
   "metadata": {},
   "outputs": [
    {
     "data": {
      "text/plain": [
       "[('olive_garden', 0.688864529132843),\n",
       " ('outback', 0.6621080636978149),\n",
       " ('applebees', 0.636206865310669),\n",
       " ('benihana', 0.6242192983627319),\n",
       " ('golden_corral', 0.6240056753158569),\n",
       " ('texas_roadhouse', 0.6175784468650818),\n",
       " (\"applebee_'s\", 0.6172181963920593),\n",
       " ('outback_steakhouse', 0.6140963435173035),\n",
       " ('tgif', 0.6030594706535339),\n",
       " ('pf_changs', 0.5988444685935974)]"
      ]
     },
     "execution_count": 38,
     "metadata": {},
     "output_type": "execute_result"
    }
   ],
   "source": [
    "pv.most_similar('red_lobster', topn=10)"
   ]
  },
  {
   "cell_type": "code",
   "execution_count": 39,
   "id": "a4da72fe-2e17-4a09-b652-0f2d576cc372",
   "metadata": {},
   "outputs": [
    {
     "data": {
      "text/plain": [
       "[('movie_theater', 0.9723757),\n",
       " ('movie', 0.8847195),\n",
       " ('movie_theaters', 0.86908734),\n",
       " ('theatre', 0.84135914),\n",
       " ('theater', 0.80433786),\n",
       " ('concert_venue', 0.7057043),\n",
       " ('movies', 0.6691836),\n",
       " ('concert', 0.6434834),\n",
       " ('cinema', 0.6412205),\n",
       " ('harkins', 0.63970023),\n",
       " ('flick', 0.6306611)]"
      ]
     },
     "execution_count": 39,
     "metadata": {},
     "output_type": "execute_result"
    }
   ],
   "source": [
    "find_most_similar('movie_theatre',10)"
   ]
  },
  {
   "cell_type": "code",
   "execution_count": 40,
   "id": "1327ac91-f569-46d1-9773-7f7ba96c91fa",
   "metadata": {},
   "outputs": [
    {
     "data": {
      "text/plain": [
       "[('movie_theater', 0.7900931239128113),\n",
       " ('bowling_alley', 0.6653438210487366),\n",
       " ('theater', 0.6134263873100281),\n",
       " ('theatre', 0.5819531083106995),\n",
       " ('cinema', 0.5797797441482544),\n",
       " ('movie_theaters', 0.5617132186889648),\n",
       " ('harkins', 0.5601080656051636),\n",
       " ('ipic', 0.5490955710411072),\n",
       " ('amc', 0.5327345728874207),\n",
       " ('food_court', 0.5285505652427673)]"
      ]
     },
     "execution_count": 40,
     "metadata": {},
     "output_type": "execute_result"
    }
   ],
   "source": [
    "pv.most_similar('movie_theatre', topn=10)"
   ]
  },
  {
   "cell_type": "code",
   "execution_count": null,
   "id": "0debd2a4-73c0-4771-a2e9-d93cc3e91fe7",
   "metadata": {},
   "outputs": [],
   "source": []
  },
  {
   "cell_type": "code",
   "execution_count": 12,
   "id": "f6858997-ef72-486a-9e7f-fb2552e1a415",
   "metadata": {},
   "outputs": [
    {
     "data": {
      "text/plain": [
       "[('gas_stations', 0.83993554),\n",
       " ('station', 0.7728608),\n",
       " ('gas', 0.74649316),\n",
       " ('sunset_station', 0.73694885),\n",
       " ('radio_station', 0.7360776),\n",
       " ('station_casinos', 0.73527193),\n",
       " ('carving_station', 0.7323403),\n",
       " ('train_station', 0.72315216),\n",
       " ('palace_station', 0.6818015),\n",
       " ('gas_tank', 0.67655355),\n",
       " ('bus_station', 0.6748766)]"
      ]
     },
     "execution_count": 12,
     "metadata": {},
     "output_type": "execute_result"
    }
   ],
   "source": [
    "find_most_similar('gas_station',10)"
   ]
  },
  {
   "cell_type": "code",
   "execution_count": 13,
   "id": "f00ae485-cd72-4f95-992e-f3f00319eda0",
   "metadata": {},
   "outputs": [
    {
     "data": {
      "text/plain": [
       "[('circle_k', 0.7509974837303162),\n",
       " ('convenience_store', 0.7126755714416504),\n",
       " ('7-11', 0.6833009719848633),\n",
       " ('qt', 0.6452143788337708),\n",
       " ('chevron', 0.6449202299118042),\n",
       " ('wal-mart', 0.6254286766052246),\n",
       " ('liquor_store', 0.6230791211128235),\n",
       " ('starbucks', 0.6202013492584229),\n",
       " ('harris_teeter', 0.6171915531158447),\n",
       " ('grocery_store', 0.6045012474060059)]"
      ]
     },
     "execution_count": 13,
     "metadata": {},
     "output_type": "execute_result"
    }
   ],
   "source": [
    "pv.most_similar('gas_station', topn=10)"
   ]
  },
  {
   "cell_type": "code",
   "execution_count": 14,
   "id": "f26c4af6-67cc-4a88-9dde-855679a356be",
   "metadata": {},
   "outputs": [
    {
     "data": {
      "text/plain": [
       "[(\"joe_'s_farm\", 0.7837119),\n",
       " (\"aj_'s\", 0.77242327),\n",
       " ('trader_joe', 0.7711776),\n",
       " (\"albertson_'s\", 0.7608523),\n",
       " (\"lowe_'s\", 0.7590137),\n",
       " ('trader_joes', 0.74426204),\n",
       " (\"rudy_'s\", 0.7442378),\n",
       " (\"basha_'s\", 0.74090666),\n",
       " (\"quizno_'s\", 0.73308426),\n",
       " (\"portillo_'s\", 0.7299124),\n",
       " (\"glazier_'s\", 0.7293061)]"
      ]
     },
     "execution_count": 14,
     "metadata": {},
     "output_type": "execute_result"
    }
   ],
   "source": [
    "find_most_similar('trader_joe_\\'s',10)"
   ]
  },
  {
   "cell_type": "code",
   "execution_count": 15,
   "id": "713deb5e-be30-4422-9390-d1e9663c42fd",
   "metadata": {},
   "outputs": [
    {
     "data": {
      "text/plain": [
       "[('whole_foods', 0.8081161975860596),\n",
       " ('trader_joes', 0.7638802528381348),\n",
       " ('safeway', 0.7166928052902222),\n",
       " ('albertsons', 0.7070872187614441),\n",
       " ('walmart', 0.6971803903579712),\n",
       " ('costco', 0.697063684463501),\n",
       " ('vons', 0.6935687065124512),\n",
       " ('winco', 0.6902263760566711),\n",
       " ('giant_eagle', 0.6857698559761047),\n",
       " ('harris_teeter', 0.6809657216072083)]"
      ]
     },
     "execution_count": 15,
     "metadata": {},
     "output_type": "execute_result"
    }
   ],
   "source": [
    "pv.most_similar('trader_joe_\\'s', topn=10)"
   ]
  },
  {
   "cell_type": "code",
   "execution_count": 16,
   "id": "60dddc6e-67f1-4bb5-af5d-f88e4a58a622",
   "metadata": {},
   "outputs": [
    {
     "data": {
      "text/plain": [
       "[('express', 0.7708801),\n",
       " ('american', 0.7669102),\n",
       " ('african_american', 0.7095183),\n",
       " ('american_chinese', 0.69805175),\n",
       " ('american_fare', 0.69369894),\n",
       " ('panda_express', 0.6889127),\n",
       " ('traditional_american', 0.6836724),\n",
       " ('american_cuisine', 0.67534477),\n",
       " ('american_style', 0.6698615),\n",
       " ('native_american', 0.66322595),\n",
       " ('american_kobe', 0.65254)]"
      ]
     },
     "execution_count": 16,
     "metadata": {},
     "output_type": "execute_result"
    }
   ],
   "source": [
    "find_most_similar('american_express',10)"
   ]
  },
  {
   "cell_type": "code",
   "execution_count": 17,
   "id": "5d3dcfcf-f65e-41d4-b231-af5edc72cf42",
   "metadata": {},
   "outputs": [
    {
     "data": {
      "text/plain": [
       "[('amex', 0.8074123859405518),\n",
       " ('visa', 0.6816932559013367),\n",
       " ('debit_cards', 0.6280720233917236),\n",
       " ('debit', 0.6025761961936951),\n",
       " ('debit/credit', 0.5903992056846619),\n",
       " ('credit/debit', 0.5634458661079407),\n",
       " ('credit_cards', 0.529003381729126),\n",
       " ('credit_card', 0.5102347731590271),\n",
       " ('cc', 0.5048595070838928),\n",
       " ('account', 0.49866512417793274)]"
      ]
     },
     "execution_count": 17,
     "metadata": {},
     "output_type": "execute_result"
    }
   ],
   "source": [
    "pv.most_similar('american_express', topn=10)"
   ]
  },
  {
   "cell_type": "code",
   "execution_count": 18,
   "id": "3a5814b3-ebd1-4c0d-b6be-3f69a516e8ce",
   "metadata": {},
   "outputs": [
    {
     "data": {
      "text/plain": [
       "[('red_lobster', 0.795673),\n",
       " ('red_curry', 0.7807002),\n",
       " ('red_cabbage', 0.7541274),\n",
       " ('red_mango', 0.74214345),\n",
       " ('red', 0.7320991),\n",
       " ('red_chile', 0.72853446),\n",
       " ('jade_red_chicken', 0.7271831),\n",
       " ('red_peppers', 0.708254),\n",
       " ('red_pepper', 0.7062238),\n",
       " ('red_chili', 0.70398444),\n",
       " ('snapper', 0.70282644)]"
      ]
     },
     "execution_count": 18,
     "metadata": {},
     "output_type": "execute_result"
    }
   ],
   "source": [
    "find_most_similar('red_snapper',10)"
   ]
  },
  {
   "cell_type": "code",
   "execution_count": 19,
   "id": "ce85fe14-eb88-4c5a-bf05-aa4d17ef313f",
   "metadata": {},
   "outputs": [
    {
     "data": {
      "text/plain": [
       "[('snapper', 0.7388752698898315),\n",
       " ('halibut', 0.7350245118141174),\n",
       " ('sea_bass', 0.7248669266700745),\n",
       " ('salmon', 0.6944115161895752),\n",
       " ('grouper', 0.689299464225769),\n",
       " ('swordfish', 0.6677346229553223),\n",
       " ('yellow_tail', 0.6486342549324036),\n",
       " ('tilapia', 0.6471425294876099),\n",
       " ('butterfish', 0.6437366604804993),\n",
       " ('chilean_sea_bass', 0.6427236795425415)]"
      ]
     },
     "execution_count": 19,
     "metadata": {},
     "output_type": "execute_result"
    }
   ],
   "source": [
    "pv.most_similar('red_snapper', topn=10)"
   ]
  },
  {
   "cell_type": "code",
   "execution_count": 20,
   "id": "a11891f2-a3b9-4123-91aa-b31b4a05a206",
   "metadata": {},
   "outputs": [
    {
     "data": {
      "text/plain": [
       "[('total_rip_off', 0.85429627),\n",
       " ('rip_me_off', 0.7293677),\n",
       " ('ripped_off', 0.7120504),\n",
       " ('rip_you_off', 0.7101525),\n",
       " ('knock_off', 0.69090104),\n",
       " ('sectioned_off', 0.69067377),\n",
       " ('roped_off', 0.6882399),\n",
       " ('ticked_off', 0.68439627),\n",
       " ('drop_off', 0.6746987),\n",
       " ('blocked_off', 0.6568476),\n",
       " ('pissed_off', 0.6527515)]"
      ]
     },
     "execution_count": 20,
     "metadata": {},
     "output_type": "execute_result"
    }
   ],
   "source": [
    "find_most_similar('rip_off',10)"
   ]
  },
  {
   "cell_type": "code",
   "execution_count": 21,
   "id": "4cf2dae4-9334-459e-994a-1655c666fcc4",
   "metadata": {},
   "outputs": [
    {
     "data": {
      "text/plain": [
       "[('ripoff', 0.8049395084381104),\n",
       " ('rip-off', 0.7816300988197327),\n",
       " ('scam', 0.7063252329826355),\n",
       " ('sham', 0.649137020111084),\n",
       " ('waste_of_money', 0.6113258600234985),\n",
       " ('total_rip_off', 0.6102744340896606),\n",
       " ('complete_joke', 0.5616369843482971),\n",
       " ('waste_of_time', 0.5571643710136414),\n",
       " ('joke', 0.5552241206169128),\n",
       " ('waste_of_time_and_money', 0.5524364113807678)]"
      ]
     },
     "execution_count": 21,
     "metadata": {},
     "output_type": "execute_result"
    }
   ],
   "source": [
    "pv.most_similar('rip_off', topn=10)"
   ]
  },
  {
   "cell_type": "code",
   "execution_count": 22,
   "id": "576c7c6a-4af7-4539-890f-cd3a18a47fe2",
   "metadata": {},
   "outputs": [
    {
     "data": {
      "text/plain": [
       "[('stay_far_away', 0.801307),\n",
       " ('stay_away_from', 0.7896206),\n",
       " ('stay_far_away_from', 0.6918894),\n",
       " ('stay', 0.63728696),\n",
       " ('away', 0.6144281),\n",
       " ('throw_away', 0.5889871),\n",
       " ('extended_stay', 0.58733547),\n",
       " ('stay_tuned', 0.5820747),\n",
       " ('stay_far_far_away', 0.57816523),\n",
       " ('block_away', 0.57658076),\n",
       " ('mile_away', 0.5668294)]"
      ]
     },
     "execution_count": 22,
     "metadata": {},
     "output_type": "execute_result"
    }
   ],
   "source": [
    "find_most_similar('stay_away',10)"
   ]
  },
  {
   "cell_type": "code",
   "execution_count": 23,
   "id": "1722a276-c01f-4637-bbeb-3c7badec3507",
   "metadata": {},
   "outputs": [
    {
     "data": {
      "text/plain": [
       "[('avoid_this_place_at_all_costs', 0.6717947721481323),\n",
       " ('do_not_eat_here', 0.6570154428482056),\n",
       " ('do_not_stay_here', 0.6488558650016785),\n",
       " ('do_not_go_here', 0.6474832892417908),\n",
       " ('stay_away_from', 0.6465854644775391),\n",
       " ('avoid_at_all_costs', 0.6362009048461914),\n",
       " ('go_somewhere_else', 0.6101713180541992),\n",
       " ('spend_your_money_elsewhere', 0.5974336266517639),\n",
       " ('stay_somewhere_else', 0.5820608735084534),\n",
       " ('avoid_this_place_like_the_plague', 0.5812249183654785)]"
      ]
     },
     "execution_count": 23,
     "metadata": {},
     "output_type": "execute_result"
    }
   ],
   "source": [
    "pv.most_similar('stay_away', topn=10)"
   ]
  },
  {
   "cell_type": "code",
   "execution_count": 24,
   "id": "9ba4b0a4-2ccb-4ec1-a7a6-f272ef1763fc",
   "metadata": {},
   "outputs": [
    {
     "data": {
      "text/plain": [
       "[('def_come_back', 0.9319645),\n",
       " ('come_back_tomorrow', 0.9280801),\n",
       " ('definitely_come_back_again', 0.8740752),\n",
       " ('come_back_here_again', 0.86935765),\n",
       " ('come_back_and_try', 0.8534807),\n",
       " ('coming_back', 0.81347615),\n",
       " ('never_come_back_here_again', 0.8081812),\n",
       " ('wait_to_come_back', 0.8053583),\n",
       " ('go_back_there_again', 0.8021362),\n",
       " ('consider_coming_back', 0.79722595),\n",
       " ('go_back_again_and_again', 0.79275393)]"
      ]
     },
     "execution_count": 24,
     "metadata": {},
     "output_type": "execute_result"
    }
   ],
   "source": [
    "find_most_similar('come_back',10)"
   ]
  },
  {
   "cell_type": "code",
   "execution_count": 25,
   "id": "f076298f-6ead-4622-95ec-4b7ba3f717fd",
   "metadata": {},
   "outputs": [
    {
     "data": {
      "text/plain": [
       "[('return', 0.8623172044754028),\n",
       " ('go_there_again', 0.7597213387489319),\n",
       " ('eat_here_again', 0.7310922145843506),\n",
       " ('eat_there_again', 0.7163803577423096),\n",
       " ('try_it_again', 0.7077999114990234),\n",
       " ('be_returning', 0.6987223625183105),\n",
       " ('come_back_here_again', 0.6956342458724976),\n",
       " ('stay_here_again', 0.6948364973068237),\n",
       " ('be_going_back', 0.6806947588920593),\n",
       " ('give_them_another_try', 0.6593993902206421)]"
      ]
     },
     "execution_count": 25,
     "metadata": {},
     "output_type": "execute_result"
    }
   ],
   "source": [
    "pv.most_similar('come_back', topn=10)"
   ]
  },
  {
   "cell_type": "code",
   "execution_count": 53,
   "id": "c525905e-f15d-459f-988e-0198378cdc99",
   "metadata": {},
   "outputs": [
    {
     "data": {
      "text/plain": [
       "[('recommended', 0.7535861),\n",
       " ('highly', 0.68466616),\n",
       " ('highly_rated', 0.67406327),\n",
       " ('highly_recommend', 0.65714335),\n",
       " ('highly_recommend_checking', 0.6167455),\n",
       " ('highly_suggest', 0.6140898),\n",
       " ('highly_doubt', 0.56515735),\n",
       " ('suggested', 0.5342651),\n",
       " ('strongly_recommend', 0.5127915),\n",
       " ('recommend_avoiding', 0.475731),\n",
       " ('recommends', 0.45735973)]"
      ]
     },
     "execution_count": 53,
     "metadata": {},
     "output_type": "execute_result"
    }
   ],
   "source": [
    "find_most_similar('highly_recommended',10)"
   ]
  },
  {
   "cell_type": "code",
   "execution_count": 54,
   "id": "f64bc5c9-6ad5-4b36-8106-cebcf8abfd9f",
   "metadata": {},
   "outputs": [
    {
     "data": {
      "text/plain": [
       "[('recommended', 0.6275034546852112),\n",
       " ('highly_recommend', 0.4874325692653656),\n",
       " ('would_definitely_recommend', 0.4720180034637451),\n",
       " ('did_not_disappoint', 0.4463396668434143),\n",
       " ('would_totally_recommend', 0.4383988678455353),\n",
       " ('recommended_to_me_by', 0.41431301832199097),\n",
       " (\"did_n't_disappoint\", 0.4066770374774933),\n",
       " ('recommending', 0.3991471529006958),\n",
       " ('recommends', 0.39192846417427063),\n",
       " ('reccomend', 0.3836936354637146)]"
      ]
     },
     "execution_count": 54,
     "metadata": {},
     "output_type": "execute_result"
    }
   ],
   "source": [
    "pv.most_similar('highly_recommended', topn=10)"
   ]
  },
  {
   "cell_type": "code",
   "execution_count": 55,
   "id": "09c18e1a-dcbb-4e64-b9f8-9cdd9a7b371a",
   "metadata": {},
   "outputs": [
    {
     "data": {
      "text/plain": [
       "[('false_advertising', 0.9014278),\n",
       " ('false', 0.82166934),\n",
       " ('advertisement', 0.7740782),\n",
       " ('advertising', 0.66560584),\n",
       " ('advertisements', 0.5403657),\n",
       " ('ads', 0.5197859),\n",
       " ('ad', 0.49093926),\n",
       " ('misleading', 0.47399557),\n",
       " ('bogus', 0.47238132),\n",
       " ('neon_sign', 0.4607426),\n",
       " ('billboard', 0.45594284)]"
      ]
     },
     "execution_count": 55,
     "metadata": {},
     "output_type": "execute_result"
    }
   ],
   "source": [
    "find_most_similar('false_advertisement',10)"
   ]
  },
  {
   "cell_type": "code",
   "execution_count": 56,
   "id": "2d5ac8cb-376a-46d9-a7ea-b7af9df9dab3",
   "metadata": {},
   "outputs": [
    {
     "data": {
      "text/plain": [
       "[('false_advertising', 0.5715084671974182),\n",
       " ('bullshit', 0.4597684442996979),\n",
       " ('scam', 0.442947655916214),\n",
       " ('bs', 0.425071656703949),\n",
       " ('advertisements', 0.4155733287334442),\n",
       " ('bogus', 0.4138934314250946),\n",
       " ('sham', 0.4119930565357208),\n",
       " ('blatant', 0.3943748474121094),\n",
       " ('fraud', 0.39431047439575195),\n",
       " ('bait_and_switch', 0.3876253366470337)]"
      ]
     },
     "execution_count": 56,
     "metadata": {},
     "output_type": "execute_result"
    }
   ],
   "source": [
    "pv.most_similar('false_advertisement', topn=10)"
   ]
  },
  {
   "cell_type": "code",
   "execution_count": 78,
   "id": "22c50cbb-6e5b-4a5b-9e5e-14497c3a60cb",
   "metadata": {},
   "outputs": [
    {
     "data": {
      "text/plain": [
       "[('you', 0.72911),\n",
       " ('rip_you_off', 0.72395104),\n",
       " ('ask_you_if_you', 0.6674157),\n",
       " ('guess_you_get_what_you', 0.6670712),\n",
       " ('start_you_off', 0.6641805),\n",
       " ('you_get_what_you_pay', 0.66008985),\n",
       " ('fill_you_up', 0.6527013),\n",
       " ('kick_you_out', 0.64428),\n",
       " ('pick_you_up', 0.64322305),\n",
       " ('blow_me_away', 0.6393354),\n",
       " (\"you_'ll_be_glad_you\", 0.63802016)]"
      ]
     },
     "execution_count": 78,
     "metadata": {},
     "output_type": "execute_result"
    }
   ],
   "source": [
    "find_most_similar('blow_you_away',10)"
   ]
  },
  {
   "cell_type": "code",
   "execution_count": 77,
   "id": "6309f057-3382-404b-a176-1cd1f9cd7994",
   "metadata": {},
   "outputs": [
    {
     "data": {
      "text/plain": [
       "[('blow_your_mind', 0.7994450330734253),\n",
       " ('knock_your_socks_off', 0.7743569612503052),\n",
       " ('bring_me_back', 0.6450387835502625),\n",
       " ('suffice', 0.6353962421417236),\n",
       " ('keep_me_away', 0.6198937892913818),\n",
       " ('keep_me_from', 0.6196178197860718),\n",
       " ('be_eating_here_again', 0.6191664934158325),\n",
       " ('be_staying_here_again', 0.6180388927459717),\n",
       " ('break_the_bank', 0.6155309081077576),\n",
       " ('be_going_here_again', 0.5990796685218811)]"
      ]
     },
     "execution_count": 77,
     "metadata": {},
     "output_type": "execute_result"
    }
   ],
   "source": [
    "pv.most_similar('blow_you_away', topn=10)"
   ]
  },
  {
   "cell_type": "code",
   "execution_count": 67,
   "id": "0e2ca5d3-1b66-4e33-ab5a-b51c92a68086",
   "metadata": {},
   "outputs": [
    {
     "data": {
      "text/plain": [
       "[('waste_of_time_and_money', 0.79998845),\n",
       " ('what_a_waste_of_money', 0.76700705),\n",
       " ('waste_of_space', 0.7613912),\n",
       " ('spend_a_lot_of_money', 0.7102344),\n",
       " ('waste_of_time', 0.70294964),\n",
       " ('save_money', 0.6792697),\n",
       " ('spending_money', 0.6784565),\n",
       " ('waste_your_money', 0.67485183),\n",
       " ('complete_waste_of_time', 0.66341734),\n",
       " ('spent_a_lot_of_money', 0.6589444),\n",
       " ('spend_the_money', 0.6497752)]"
      ]
     },
     "execution_count": 67,
     "metadata": {},
     "output_type": "execute_result"
    }
   ],
   "source": [
    "find_most_similar('waste_of_money',10)"
   ]
  },
  {
   "cell_type": "code",
   "execution_count": 66,
   "id": "2941ff14-af9d-40d2-91a8-9fa98cc5b7a3",
   "metadata": {},
   "outputs": [
    {
     "data": {
      "text/plain": [
       "[('waste_of_time_and_money', 0.7229926586151123),\n",
       " ('waste_of_time', 0.7118080854415894),\n",
       " ('rip_off', 0.6113259196281433),\n",
       " ('waste_of_my_time', 0.5933855772018433),\n",
       " ('rip-off', 0.5632680058479309),\n",
       " ('waste', 0.5425467491149902),\n",
       " ('ripoff', 0.5411168932914734),\n",
       " ('letdown', 0.5232685208320618),\n",
       " ('what_a_waste_of_money', 0.5087049007415771),\n",
       " ('huge_disappointment', 0.4980964958667755)]"
      ]
     },
     "execution_count": 66,
     "metadata": {},
     "output_type": "execute_result"
    }
   ],
   "source": [
    "pv.most_similar('waste_of_money', topn=10)"
   ]
  },
  {
   "cell_type": "code",
   "execution_count": 28,
   "id": "eeb84b07-5bf8-4df7-9e20-93f7f661e815",
   "metadata": {},
   "outputs": [
    {
     "data": {
      "text/plain": [
       "[('friday', 0.75291485),\n",
       " ('friday_and_saturday', 0.74230933),\n",
       " ('thursday', 0.7167004),\n",
       " ('saturday', 0.70486265),\n",
       " ('friday_and_saturday_nights', 0.6919368),\n",
       " ('wednesday', 0.6856665),\n",
       " ('saturday_and_sunday', 0.6793641),\n",
       " ('friday_or_saturday', 0.6781271),\n",
       " ('friday_or_saturday_night', 0.67754877),\n",
       " ('friday_afternoon', 0.6693022),\n",
       " ('monday', 0.6654902)]"
      ]
     },
     "execution_count": 28,
     "metadata": {},
     "output_type": "execute_result"
    }
   ],
   "source": [
    "find_most_similar('black_friday',10)"
   ]
  },
  {
   "cell_type": "code",
   "execution_count": 29,
   "id": "86f5aa07-1b4c-447a-8ee6-c12576d14003",
   "metadata": {},
   "outputs": [
    {
     "data": {
      "text/plain": [
       "[('labor_day', 0.5921285152435303),\n",
       " ('holiday', 0.5608869194984436),\n",
       " ('opening_weekend', 0.559313952922821),\n",
       " ('memorial_day', 0.5504113435745239),\n",
       " ('july_4th', 0.5426462292671204),\n",
       " ('holiday_weekend', 0.5339215993881226),\n",
       " ('christmas_eve', 0.5232721567153931),\n",
       " ('4th_of_july', 0.5189844369888306),\n",
       " ('weekend', 0.5114989876747131),\n",
       " ('holiday_season', 0.5079110860824585)]"
      ]
     },
     "execution_count": 29,
     "metadata": {},
     "output_type": "execute_result"
    }
   ],
   "source": [
    "pv.most_similar('black_friday', topn=10)"
   ]
  },
  {
   "cell_type": "code",
   "execution_count": 30,
   "id": "ed9366bc-07fc-4c8a-a039-e1d9a0cf13ff",
   "metadata": {},
   "outputs": [
    {
     "data": {
      "text/plain": [
       "[('buy_one_get_one', 0.93990463),\n",
       " ('one_get_one_free', 0.9342758),\n",
       " ('get_one_free', 0.93194836),\n",
       " ('buy_one_get', 0.89517987),\n",
       " ('buy_1_get', 0.7674571),\n",
       " ('get_1_free', 0.72951937),\n",
       " ('buy', 0.65742725),\n",
       " ('1_get_1', 0.6106723),\n",
       " ('one', 0.58680534),\n",
       " ('buy_tickets', 0.5675722),\n",
       " ('get_rid', 0.5575031)]"
      ]
     },
     "execution_count": 30,
     "metadata": {},
     "output_type": "execute_result"
    }
   ],
   "source": [
    "find_most_similar('buy_one_get_one_free',10)"
   ]
  },
  {
   "cell_type": "code",
   "execution_count": 31,
   "id": "5715e83d-d635-4f21-bd22-54c8aa594da7",
   "metadata": {},
   "outputs": [
    {
     "data": {
      "text/plain": [
       "[('bogo', 0.7932785749435425),\n",
       " ('2_for_1', 0.7789703011512756),\n",
       " ('2-for-1', 0.7584856152534485),\n",
       " ('buy_one_get_one', 0.7238240242004395),\n",
       " ('half-off', 0.5744544863700867),\n",
       " ('coupon_for_a_free', 0.538178563117981),\n",
       " ('free', 0.5373127460479736),\n",
       " ('promo', 0.5334417819976807),\n",
       " ('half-price', 0.5243359208106995),\n",
       " ('discounted', 0.5049667954444885)]"
      ]
     },
     "execution_count": 31,
     "metadata": {},
     "output_type": "execute_result"
    }
   ],
   "source": [
    "pv.most_similar('buy_one_get_one_free', topn=10)"
   ]
  },
  {
   "cell_type": "code",
   "execution_count": 32,
   "id": "24d2bbde-01d1-4f07-bb29-926088daae5a",
   "metadata": {},
   "outputs": [
    {
     "data": {
      "text/plain": [
       "[('michael_kors', 0.83809274),\n",
       " ('michael', 0.8313928),\n",
       " ('jackson', 0.8251565),\n",
       " ('michael_mina', 0.79220563),\n",
       " ('david_copperfield', 0.6822008),\n",
       " ('david', 0.61261266),\n",
       " ('barry', 0.60324174),\n",
       " ('jordan', 0.5986328),\n",
       " ('justin', 0.59588414),\n",
       " ('brooks', 0.59296817),\n",
       " ('paul', 0.583533)]"
      ]
     },
     "execution_count": 32,
     "metadata": {},
     "output_type": "execute_result"
    }
   ],
   "source": [
    "find_most_similar('michael_jackson',10)"
   ]
  },
  {
   "cell_type": "code",
   "execution_count": 33,
   "id": "e28f89a3-d57e-44ba-81d1-3c215ae6a53e",
   "metadata": {},
   "outputs": [
    {
     "data": {
      "text/plain": [
       "[('britney_spears', 0.6749311089515686),\n",
       " ('celine_dion', 0.6425768733024597),\n",
       " ('elvis', 0.6360968947410583),\n",
       " ('celine', 0.632135272026062),\n",
       " ('lady_gaga', 0.6273902058601379),\n",
       " ('impersonator', 0.6128605008125305),\n",
       " ('elton', 0.6094824075698853),\n",
       " ('carrot_top', 0.6003864407539368),\n",
       " ('beatles', 0.5985799431800842),\n",
       " ('david_copperfield', 0.5881426930427551)]"
      ]
     },
     "execution_count": 33,
     "metadata": {},
     "output_type": "execute_result"
    }
   ],
   "source": [
    "pv.most_similar('michael_jackson', topn=10)"
   ]
  },
  {
   "cell_type": "code",
   "execution_count": 34,
   "id": "685e4748-7408-42d3-91c5-b5688100e756",
   "metadata": {},
   "outputs": [
    {
     "data": {
      "text/plain": [
       "[('+1_star', 0.8421709),\n",
       " ('fifth_star', 0.834858),\n",
       " ('star', 0.82973874),\n",
       " ('-1_star', 0.821245),\n",
       " ('5th_star', 0.81658),\n",
       " ('shining_star', 0.8065074),\n",
       " ('michelin_star', 0.8063405),\n",
       " ('star_rating', 0.80078185),\n",
       " ('4.5_star', 0.8002926),\n",
       " ('1_star_rating', 0.7861274),\n",
       " ('star_trek', 0.78097695)]"
      ]
     },
     "execution_count": 34,
     "metadata": {},
     "output_type": "execute_result"
    }
   ],
   "source": [
    "find_most_similar('star_wars',10)"
   ]
  },
  {
   "cell_type": "code",
   "execution_count": 35,
   "id": "860ca1df-2908-46c7-8e1c-eccdaec52287",
   "metadata": {},
   "outputs": [
    {
     "data": {
      "text/plain": [
       "[('harry_potter', 0.575786828994751),\n",
       " ('pawn_stars', 0.556412935256958),\n",
       " ('memorabilia', 0.5517230033874512),\n",
       " ('comics', 0.5514630079269409),\n",
       " ('star_trek', 0.5488657355308533),\n",
       " ('cartoon', 0.5471622943878174),\n",
       " ('films', 0.5415935516357422),\n",
       " ('video_game', 0.5391843914985657),\n",
       " ('comic', 0.5340136885643005),\n",
       " ('fiction', 0.5314691066741943)]"
      ]
     },
     "execution_count": 35,
     "metadata": {},
     "output_type": "execute_result"
    }
   ],
   "source": [
    "pv.most_similar('star_wars', topn=10)"
   ]
  },
  {
   "cell_type": "code",
   "execution_count": 36,
   "id": "afbc99b5-09fe-4df4-829e-e5893596271a",
   "metadata": {},
   "outputs": [
    {
     "data": {
      "text/plain": [
       "[('mercedes', 0.7816958),\n",
       " ('lexus', 0.7605115),\n",
       " ('toyota', 0.7503296),\n",
       " ('vw', 0.7373883),\n",
       " ('audi', 0.7358724),\n",
       " ('honda', 0.7328468),\n",
       " ('volvo', 0.7292362),\n",
       " ('nissan', 0.7252979),\n",
       " ('acura', 0.69907576),\n",
       " ('car_dealership', 0.6979114),\n",
       " ('mazda', 0.68770736)]"
      ]
     },
     "execution_count": 36,
     "metadata": {},
     "output_type": "execute_result"
    }
   ],
   "source": [
    "find_most_similar('bmw',10)"
   ]
  },
  {
   "cell_type": "code",
   "execution_count": 37,
   "id": "3538f0fe-4661-4445-adda-5b241b62a74c",
   "metadata": {},
   "outputs": [
    {
     "data": {
      "text/plain": [
       "[('lexus', 0.7729480266571045),\n",
       " ('mercedes', 0.7578004002571106),\n",
       " ('toyota', 0.7527322769165039),\n",
       " ('audi', 0.7475761771202087),\n",
       " ('honda', 0.734687089920044),\n",
       " ('nissan', 0.7313339114189148),\n",
       " ('vw', 0.7269374132156372),\n",
       " ('acura', 0.7157704830169678),\n",
       " ('volvo', 0.7001819610595703),\n",
       " ('jeep', 0.6983031630516052)]"
      ]
     },
     "execution_count": 37,
     "metadata": {},
     "output_type": "execute_result"
    }
   ],
   "source": [
    "pv.most_similar('bmw', topn=10)"
   ]
  },
  {
   "cell_type": "code",
   "execution_count": 38,
   "id": "4de84e7f-8972-482d-917e-1dac36e38797",
   "metadata": {},
   "outputs": [
    {
     "data": {
      "text/plain": [
       "[('sam_woo', 0.80379474),\n",
       " ('sam', 0.78410107),\n",
       " ('sam_fox', 0.7321492),\n",
       " ('adams', 0.7300699),\n",
       " ('sams', 0.54374343),\n",
       " (\"sam_'s_club\", 0.5097069),\n",
       " ('stella', 0.49757358),\n",
       " ('miller', 0.4882115),\n",
       " ('yuengling', 0.4804398),\n",
       " ('robbie', 0.47625613),\n",
       " ('miller_lite', 0.441058)]"
      ]
     },
     "execution_count": 38,
     "metadata": {},
     "output_type": "execute_result"
    }
   ],
   "source": [
    "find_most_similar('sam_adams',10)"
   ]
  },
  {
   "cell_type": "code",
   "execution_count": 39,
   "id": "ebd3ec5e-8202-4f0f-96b9-9bc0e74831c7",
   "metadata": {},
   "outputs": [
    {
     "data": {
      "text/plain": [
       "[('fat_tire', 0.7392278909683228),\n",
       " ('yuengling', 0.7155603766441345),\n",
       " ('stella', 0.7141091823577881),\n",
       " ('kiltlifter', 0.7128024697303772),\n",
       " ('sierra_nevada', 0.7047154307365417),\n",
       " ('coors_light', 0.7026113867759705),\n",
       " ('pilsner', 0.6845979690551758),\n",
       " ('miller_lite', 0.6769223213195801),\n",
       " ('guiness', 0.674321174621582),\n",
       " ('lager', 0.6724190711975098)]"
      ]
     },
     "execution_count": 39,
     "metadata": {},
     "output_type": "execute_result"
    }
   ],
   "source": [
    "pv.most_similar('sam_adams', topn=10)"
   ]
  },
  {
   "cell_type": "code",
   "execution_count": 40,
   "id": "225f5c95-3b4a-489d-9f4a-1c2340a3e590",
   "metadata": {},
   "outputs": [],
   "source": [
    "def find_most_similar_triplet(query, positive, negative, k):\n",
    "    sim = {}\n",
    "    vector = p2v_word_mean[query] + p2v_word_mean[positive] - p2v_word_mean[negative]\n",
    "    vector /= np.sqrt(vector.dot(vector))\n",
    "    for key in p2v_word_mean:\n",
    "        sim[key] = vector.dot(p2v_word_mean[key])/ \\\n",
    "            np.sqrt(p2v_word_mean[query].dot(p2v_word_mean[query]))\n",
    "    top_key = sorted(sim, key=sim.get, reverse=True)[1:k+2]\n",
    "    return [(k, sim[k]) for k in top_key]"
   ]
  },
  {
   "cell_type": "code",
   "execution_count": 41,
   "id": "7b1e7d9b-a76d-4727-992a-6cda13caa93a",
   "metadata": {},
   "outputs": [
    {
     "data": {
      "text/plain": [
       "[('kung_pao_chicken', 0.6677590608596802),\n",
       " (\"general_tso_'s_chicken\", 0.6636512279510498),\n",
       " ('sweet_and_sour_chicken', 0.6535249948501587),\n",
       " ('pad_thai', 0.6515058279037476),\n",
       " ('orange_chicken', 0.6472142338752747),\n",
       " (\"general_tso_'s\", 0.6271734833717346),\n",
       " ('mongolian_beef', 0.6249250769615173),\n",
       " ('fried_rice', 0.6247451305389404),\n",
       " ('kung_pao', 0.6238416433334351),\n",
       " ('singapore_noodles', 0.6183832287788391)]"
      ]
     },
     "execution_count": 41,
     "metadata": {},
     "output_type": "execute_result"
    }
   ],
   "source": [
    "pv.most_similar(['chicken_tikka_masala','chinese'],['indian'])"
   ]
  },
  {
   "cell_type": "code",
   "execution_count": 42,
   "id": "1dcdfcd4-59af-451a-afaf-e2711bbce7a9",
   "metadata": {},
   "outputs": [
    {
     "data": {
      "text/plain": [
       "[('tso_chicken', 0.847726),\n",
       " ('fried_chicken', 0.8019269),\n",
       " ('teriyaki_chicken', 0.7917419),\n",
       " ('chicken_teriyaki', 0.7917419),\n",
       " ('chicken_katsu', 0.7765558),\n",
       " ('chicken_noodle_soup', 0.7613805),\n",
       " ('pork', 0.7592694),\n",
       " ('rice', 0.75526804),\n",
       " ('chicken_wings', 0.7527378),\n",
       " ('chinese_chicken_salad', 0.75221753),\n",
       " ('broccoli', 0.75197685)]"
      ]
     },
     "execution_count": 42,
     "metadata": {},
     "output_type": "execute_result"
    }
   ],
   "source": [
    "find_most_similar_triplet('chicken_tikka_masala','chinese','indian', 10)"
   ]
  },
  {
   "cell_type": "code",
   "execution_count": 43,
   "id": "28f057ce-2efa-450a-b948-b0f8fb785d6d",
   "metadata": {},
   "outputs": [
    {
     "data": {
      "text/plain": [
       "[('bibimbap', 0.6351625323295593),\n",
       " ('kimchi_fried_rice', 0.5879839062690735),\n",
       " ('bulgogi', 0.5840677618980408),\n",
       " ('galbi', 0.5832093954086304),\n",
       " ('kalbi', 0.5780476927757263),\n",
       " ('chicken_katsu', 0.5743175148963928),\n",
       " ('kung_pao_chicken', 0.5608468055725098),\n",
       " ('pancit', 0.5583246946334839),\n",
       " ('pineapple_fried_rice', 0.5581871867179871),\n",
       " ('singapore_noodles', 0.5574873685836792)]"
      ]
     },
     "execution_count": 43,
     "metadata": {},
     "output_type": "execute_result"
    }
   ],
   "source": [
    "pv.most_similar(['chicken_tikka_masala','korean'],['indian'])"
   ]
  },
  {
   "cell_type": "code",
   "execution_count": 44,
   "id": "349c2540-44b3-4137-9a10-734b24ae3e51",
   "metadata": {},
   "outputs": [
    {
     "data": {
      "text/plain": [
       "[('pork', 0.9211243),\n",
       " ('pork_ribs', 0.8275507),\n",
       " ('sauce', 0.8241638),\n",
       " ('chicken_katsu', 0.80240214),\n",
       " ('teriyaki_chicken', 0.79478234),\n",
       " ('chicken_teriyaki', 0.79478234),\n",
       " ('chicken_skewers', 0.7822317),\n",
       " ('marinated_pork', 0.77114254),\n",
       " ('chicken_wings', 0.7698989),\n",
       " ('fried_chicken', 0.7644578),\n",
       " ('chicken_fajitas', 0.7607274)]"
      ]
     },
     "execution_count": 44,
     "metadata": {},
     "output_type": "execute_result"
    }
   ],
   "source": [
    "find_most_similar_triplet('chicken_tikka_masala','korean','indian', 10)"
   ]
  },
  {
   "cell_type": "code",
   "execution_count": 45,
   "id": "d67f87d3-ab2a-4538-be2b-175ec5398ffe",
   "metadata": {},
   "outputs": [
    {
     "data": {
      "text/plain": [
       "[('yakisoba', 0.5030895471572876),\n",
       " ('kimchi_fried_rice', 0.49489933252334595),\n",
       " ('bibimbap', 0.4912426173686981),\n",
       " ('butterfish', 0.4886576235294342),\n",
       " ('gobi', 0.48325470089912415),\n",
       " ('seaweed_salad', 0.48208627104759216),\n",
       " ('hotpot', 0.4809083938598633),\n",
       " ('chicken_katsu', 0.4799357056617737),\n",
       " ('yakitori', 0.47972196340560913),\n",
       " ('katsu_curry', 0.4735664129257202)]"
      ]
     },
     "execution_count": 45,
     "metadata": {},
     "output_type": "execute_result"
    }
   ],
   "source": [
    "pv.most_similar(['chicken_tikka_masala','japanese'],['indian'])"
   ]
  },
  {
   "cell_type": "code",
   "execution_count": 46,
   "id": "9dc5f907-f021-49cd-ad60-f5146d0a5e8f",
   "metadata": {},
   "outputs": [
    {
     "data": {
      "text/plain": [
       "[('fried_chicken', 0.7114883),\n",
       " ('sauce', 0.71041),\n",
       " ('salad', 0.70288783),\n",
       " ('beef', 0.6945649),\n",
       " ('chicken_katsu', 0.69246435),\n",
       " ('pork', 0.6886938),\n",
       " ('chicken_skewers', 0.68676454),\n",
       " ('teriyaki_chicken', 0.68434125),\n",
       " ('chicken_teriyaki', 0.68434125),\n",
       " ('grilled_chicken_salad', 0.6789767),\n",
       " ('shrimp', 0.66812617)]"
      ]
     },
     "execution_count": 46,
     "metadata": {},
     "output_type": "execute_result"
    }
   ],
   "source": [
    "find_most_similar_triplet('chicken_tikka_masala','japanese','indian', 10)"
   ]
  },
  {
   "cell_type": "code",
   "execution_count": 47,
   "id": "1c71f455-4f15-48dd-895a-760c1a6ef98f",
   "metadata": {},
   "outputs": [
    {
     "data": {
      "text/plain": [
       "[('lasagna', 0.6072453856468201),\n",
       " ('baked_ziti', 0.587261438369751),\n",
       " ('chicken_marsala', 0.5868086814880371),\n",
       " ('pasta', 0.5829657316207886),\n",
       " ('chicken_parm', 0.5803238749504089),\n",
       " ('rigatoni', 0.5789533853530884),\n",
       " ('chicken_parmesan', 0.5781385898590088),\n",
       " ('bolognese', 0.5780925750732422),\n",
       " ('fettuccine_alfredo', 0.5759519338607788),\n",
       " ('ziti', 0.5709116458892822)]"
      ]
     },
     "execution_count": 47,
     "metadata": {},
     "output_type": "execute_result"
    }
   ],
   "source": [
    "pv.most_similar(['chicken_tikka_masala','italian'],['indian'])"
   ]
  },
  {
   "cell_type": "code",
   "execution_count": 48,
   "id": "7646b71d-21b5-4385-92ac-206b3a7caf98",
   "metadata": {},
   "outputs": [
    {
     "data": {
      "text/plain": [
       "[('cheese', 0.9007643),\n",
       " ('chicken_salad_sandwich', 0.8767701),\n",
       " ('salad', 0.8765892),\n",
       " ('grilled_chicken_salad', 0.83598083),\n",
       " ('grilled_chicken', 0.8156766),\n",
       " ('chicken_parmesan', 0.80413216),\n",
       " ('chicken_alfredo', 0.80215603),\n",
       " ('chicken_parm', 0.7960438),\n",
       " ('grilled_chicken_sandwich', 0.7960307),\n",
       " ('sauce', 0.7955325),\n",
       " ('chicken_wings', 0.7867361)]"
      ]
     },
     "execution_count": 48,
     "metadata": {},
     "output_type": "execute_result"
    }
   ],
   "source": [
    "find_most_similar_triplet('chicken_tikka_masala','italian','indian', 10)"
   ]
  },
  {
   "cell_type": "code",
   "execution_count": 49,
   "id": "c23b6dc5-6ffe-4a39-8d20-eaabbbd2eaca",
   "metadata": {},
   "outputs": [
    {
     "data": {
      "text/plain": [
       "[('chicken_chimichanga', 0.6000179648399353),\n",
       " ('carnitas_burrito', 0.5940988659858704),\n",
       " ('carne_asada', 0.5901860594749451),\n",
       " ('chile_relleno', 0.5888283848762512),\n",
       " ('pollo', 0.5799379944801331),\n",
       " ('chile_rellenos', 0.5794435143470764),\n",
       " ('carnitas', 0.5787737369537354),\n",
       " ('burro', 0.5769017934799194),\n",
       " ('steak_fajitas', 0.576671838760376),\n",
       " ('carne_asada_burrito', 0.5708556771278381)]"
      ]
     },
     "execution_count": 49,
     "metadata": {},
     "output_type": "execute_result"
    }
   ],
   "source": [
    "pv.most_similar(['chicken_tikka_masala','mexican'],['indian'])"
   ]
  },
  {
   "cell_type": "code",
   "execution_count": 50,
   "id": "1a0fb63b-91d1-433a-bd30-84ebd5be795d",
   "metadata": {},
   "outputs": [
    {
     "data": {
      "text/plain": [
       "[('chicken_quesadilla', 0.84027094),\n",
       " ('chicken_enchiladas', 0.8353465),\n",
       " ('burrito', 0.8193125),\n",
       " ('chicken_fajitas', 0.8140136),\n",
       " ('sauce', 0.7849661),\n",
       " ('chicken_chimichanga', 0.7774658),\n",
       " ('chicken_fajita', 0.76583153),\n",
       " ('cheese', 0.7647797),\n",
       " ('chicken_mole', 0.76334035),\n",
       " ('tacos', 0.7593667),\n",
       " ('fried_chicken', 0.75886655)]"
      ]
     },
     "execution_count": 50,
     "metadata": {},
     "output_type": "execute_result"
    }
   ],
   "source": [
    "find_most_similar_triplet('chicken_tikka_masala','mexican','indian', 10)"
   ]
  },
  {
   "cell_type": "code",
   "execution_count": 51,
   "id": "524b3985-861e-405e-8bb6-948e527db612",
   "metadata": {},
   "outputs": [
    {
     "data": {
      "text/plain": [
       "[('chocolate_croissant', 0.44142764806747437),\n",
       " ('croque_monsieur', 0.43355706334114075),\n",
       " ('steak_frites', 0.4318660497665405),\n",
       " ('croque_madame', 0.42589983344078064),\n",
       " ('croque', 0.42506203055381775),\n",
       " ('cheese_danish', 0.4190402030944824),\n",
       " ('bananas_foster', 0.4161113500595093),\n",
       " ('lobster_risotto', 0.41511887311935425),\n",
       " ('cappuccino', 0.4135320484638214),\n",
       " ('brioche', 0.41106200218200684)]"
      ]
     },
     "execution_count": 51,
     "metadata": {},
     "output_type": "execute_result"
    }
   ],
   "source": [
    "pv.most_similar(['chicken_tikka_masala','french'],['indian'])"
   ]
  },
  {
   "cell_type": "code",
   "execution_count": 52,
   "id": "72e88196-66ca-47c1-9813-67325891e8d1",
   "metadata": {},
   "outputs": [
    {
     "data": {
      "text/plain": [
       "[('chicken', 0.78300136),\n",
       " ('cheese', 0.7802186),\n",
       " ('potato', 0.76673645),\n",
       " ('french_fries', 0.736523),\n",
       " ('potato_salad', 0.7220526),\n",
       " ('potato_fries', 0.7013185),\n",
       " ('chicken_salad_sandwich', 0.7000062),\n",
       " ('potatoes', 0.68948114),\n",
       " ('french_toast', 0.67791975),\n",
       " ('salad', 0.67736864),\n",
       " ('garlic', 0.6667124)]"
      ]
     },
     "execution_count": 52,
     "metadata": {},
     "output_type": "execute_result"
    }
   ],
   "source": [
    "find_most_similar_triplet('chicken_tikka_masala','french','indian', 10)"
   ]
  },
  {
   "cell_type": "code",
   "execution_count": 53,
   "id": "1879c4c1-9f80-4ecc-b377-16b508fcee04",
   "metadata": {},
   "outputs": [
    {
     "data": {
      "text/plain": [
       "[('moussaka', 0.6588674187660217),\n",
       " ('chicken_tikka', 0.6266454458236694),\n",
       " ('chicken_shawarma', 0.6224196553230286),\n",
       " ('lentil_soup', 0.6164937615394592),\n",
       " ('hummus_appetizer', 0.6126445531845093),\n",
       " ('humus', 0.6032371520996094),\n",
       " ('greek_salad', 0.6003979444503784),\n",
       " ('mixed_grill', 0.5950077176094055),\n",
       " ('chicken_kabob', 0.5944403409957886),\n",
       " ('chicken_souvlaki', 0.5913903713226318)]"
      ]
     },
     "execution_count": 53,
     "metadata": {},
     "output_type": "execute_result"
    }
   ],
   "source": [
    "pv.most_similar(['chicken_tikka_masala','mediterranean'],['indian'])"
   ]
  },
  {
   "cell_type": "code",
   "execution_count": 54,
   "id": "fba7bed4-8ab9-433b-b913-f409bc3efe1b",
   "metadata": {},
   "outputs": [
    {
     "data": {
      "text/plain": [
       "[('salad', 0.855009),\n",
       " ('chicken_salad_sandwich', 0.831237),\n",
       " ('grilled_chicken_salad', 0.82749087),\n",
       " ('grilled_chicken', 0.8137318),\n",
       " ('chicken_wrap', 0.80984294),\n",
       " ('chicken_quesadilla', 0.7778435),\n",
       " ('grilled_chicken_sandwich', 0.765555),\n",
       " ('spinach_salad', 0.7624749),\n",
       " ('chicken_fajitas', 0.75641334),\n",
       " ('chicken_kabob', 0.75584215),\n",
       " ('fried_chicken', 0.748893)]"
      ]
     },
     "execution_count": 54,
     "metadata": {},
     "output_type": "execute_result"
    }
   ],
   "source": [
    "find_most_similar_triplet('chicken_tikka_masala','mediterranean','indian', 10)"
   ]
  },
  {
   "cell_type": "code",
   "execution_count": 55,
   "id": "5d34383b-00ae-4ec0-8b29-c42c8181932f",
   "metadata": {},
   "outputs": [
    {
     "data": {
      "text/plain": [
       "[('pad_thai', 0.7513605952262878),\n",
       " ('panang_curry', 0.7265278697013855),\n",
       " ('green_curry', 0.7166466116905212),\n",
       " ('pineapple_fried_rice', 0.7116812467575073),\n",
       " ('yellow_curry', 0.7089362740516663),\n",
       " ('red_curry', 0.7016952037811279),\n",
       " ('panang', 0.6997680068016052),\n",
       " ('pad_see_ew', 0.6966274976730347),\n",
       " ('tom_yum_soup', 0.6896529197692871),\n",
       " ('drunken_noodles', 0.6792545318603516)]"
      ]
     },
     "execution_count": 55,
     "metadata": {},
     "output_type": "execute_result"
    }
   ],
   "source": [
    "pv.most_similar(['chicken_tikka_masala','thai'],['indian'])"
   ]
  },
  {
   "cell_type": "code",
   "execution_count": 56,
   "id": "da888865-73e3-47c2-9585-d67e7d94ffe6",
   "metadata": {},
   "outputs": [
    {
     "data": {
      "text/plain": [
       "[('tso_chicken', 0.82553655),\n",
       " ('curry', 0.8245528),\n",
       " ('thai', 0.82395643),\n",
       " ('chicken_satay', 0.81090915),\n",
       " ('soup', 0.80485785),\n",
       " ('sauce', 0.79012716),\n",
       " ('chicken_katsu', 0.78994447),\n",
       " ('lemongrass_chicken', 0.7862238),\n",
       " ('chicken_wings', 0.78412354),\n",
       " ('chicken_noodle_soup', 0.7837389),\n",
       " ('spicy', 0.7808894)]"
      ]
     },
     "execution_count": 56,
     "metadata": {},
     "output_type": "execute_result"
    }
   ],
   "source": [
    "find_most_similar_triplet('chicken_tikka_masala','thai','indian', 10)"
   ]
  },
  {
   "cell_type": "code",
   "execution_count": 80,
   "id": "817fe276-4915-4a91-bad9-7585286de02b",
   "metadata": {},
   "outputs": [
    {
     "data": {
      "text/plain": [
       "[('schnitzel', 0.5215099453926086),\n",
       " (\"shepherd_'s_pie\", 0.4952056109905243),\n",
       " ('chicken_pot_pie', 0.4760470986366272),\n",
       " ('gobi', 0.4590258002281189),\n",
       " ('chicken_and_dumplings', 0.455737441778183),\n",
       " ('kofta', 0.45312631130218506),\n",
       " ('lamb_vindaloo', 0.4351862072944641),\n",
       " ('spaetzle', 0.4305463135242462),\n",
       " ('moussaka', 0.42588385939598083),\n",
       " ('lentil_soup', 0.425852507352829)]"
      ]
     },
     "execution_count": 80,
     "metadata": {},
     "output_type": "execute_result"
    }
   ],
   "source": [
    "pv.most_similar(['chicken_tikka_masala','german'],['indian'])"
   ]
  },
  {
   "cell_type": "code",
   "execution_count": 81,
   "id": "caaff83e-15a5-4b43-9443-79df6fd8c697",
   "metadata": {},
   "outputs": [
    {
     "data": {
      "text/plain": [
       "[('chicken', 0.6574709),\n",
       " ('sausage', 0.6256715),\n",
       " ('potato', 0.60954607),\n",
       " ('potato_salad', 0.5995882),\n",
       " ('potato_fries', 0.59516025),\n",
       " ('salad', 0.5896303),\n",
       " ('sausage_gravy', 0.58863163),\n",
       " ('chicken_salad_sandwich', 0.58179975),\n",
       " ('fries', 0.58077455),\n",
       " ('corn', 0.5725964),\n",
       " ('cheddar_cheese', 0.5687748)]"
      ]
     },
     "execution_count": 81,
     "metadata": {},
     "output_type": "execute_result"
    }
   ],
   "source": [
    "find_most_similar_triplet('chicken_tikka_masala','german','indian', 10)"
   ]
  },
  {
   "cell_type": "code",
   "execution_count": 57,
   "id": "9c82cb2a-500c-4e26-8c6f-66c16e1b798c",
   "metadata": {},
   "outputs": [
    {
     "data": {
      "text/plain": [
       "[('pho_ga', 0.43696776032447815),\n",
       " ('lemon_grass', 0.4352845251560211),\n",
       " ('tom_yum', 0.42617347836494446),\n",
       " ('beef_stew', 0.4261304438114166),\n",
       " ('nam', 0.4156004786491394),\n",
       " ('wonton_noodle_soup', 0.4023911654949188),\n",
       " ('lemongrass_chicken', 0.39777395129203796),\n",
       " ('general_tao', 0.3954038918018341),\n",
       " ('pad_kee_mao', 0.39365309476852417),\n",
       " ('vegetable_soup', 0.38979023694992065)]"
      ]
     },
     "execution_count": 57,
     "metadata": {},
     "output_type": "execute_result"
    }
   ],
   "source": [
    "pv.most_similar(['chicken_tikka_masala','vietnam'],['indian'])"
   ]
  },
  {
   "cell_type": "code",
   "execution_count": 58,
   "id": "b82f9f9f-ce54-4037-8a56-e91e7e7138ce",
   "metadata": {},
   "outputs": [
    {
     "data": {
      "text/plain": [
       "[('broth', 0.5263343),\n",
       " ('soup', 0.51830035),\n",
       " ('chicken_wrap', 0.5152303),\n",
       " ('grilled_chicken', 0.50690037),\n",
       " ('chicken_quesadilla', 0.5043293),\n",
       " ('chicken_fajitas', 0.48372525),\n",
       " ('chicken_salad_sandwich', 0.4822069),\n",
       " ('grilled_chicken_salad', 0.4797914),\n",
       " ('mushroom_soup', 0.47960013),\n",
       " ('bone', 0.4766805),\n",
       " ('chicken_katsu', 0.47622257)]"
      ]
     },
     "execution_count": 58,
     "metadata": {},
     "output_type": "execute_result"
    }
   ],
   "source": [
    "find_most_similar_triplet('chicken_tikka_masala','vietnam','indian', 10)"
   ]
  },
  {
   "cell_type": "code",
   "execution_count": 59,
   "id": "b2ede808-45fc-4fc8-bf20-4791cfc46d99",
   "metadata": {},
   "outputs": [
    {
     "data": {
      "text/plain": [
       "[('whole_foods', 0.6264664530754089),\n",
       " (\"albertson_'s\", 0.5566861033439636),\n",
       " ('albertsons', 0.554368793964386),\n",
       " ('trader_joes', 0.5453779101371765),\n",
       " ('costco', 0.5352588891983032),\n",
       " (\"aj_'s\", 0.5335346460342407),\n",
       " ('walmart', 0.5334241986274719),\n",
       " ('vons', 0.5295282006263733),\n",
       " ('safeway', 0.5247744917869568),\n",
       " ('harris_teeter', 0.5247673988342285)]"
      ]
     },
     "execution_count": 59,
     "metadata": {},
     "output_type": "execute_result"
    }
   ],
   "source": [
    "pv.most_similar(['trader_joe_\\'s','expensive'],['cheap'])"
   ]
  },
  {
   "cell_type": "code",
   "execution_count": 60,
   "id": "56e2985e-4163-4689-bbde-76f5eb4e6d2d",
   "metadata": {},
   "outputs": [
    {
     "data": {
      "text/plain": [
       "[('pricey', 0.79969066),\n",
       " ('than', 0.7132415),\n",
       " (\"'s\", 0.6860301),\n",
       " ('pricier_than', 0.6606659),\n",
       " ('pricy', 0.6087658),\n",
       " ('pricier', 0.6080903),\n",
       " ('less_expensive_than', 0.594581),\n",
       " ('overpriced', 0.59213203),\n",
       " ('inconvenient', 0.57708925),\n",
       " ('cheaper_than', 0.56773573),\n",
       " ('more_expensive_than', 0.53960925)]"
      ]
     },
     "execution_count": 60,
     "metadata": {},
     "output_type": "execute_result"
    }
   ],
   "source": [
    "find_most_similar_triplet('trader_joe_\\'s','expensive','cheap', 10)"
   ]
  },
  {
   "cell_type": "code",
   "execution_count": 61,
   "id": "50d2d0f7-b4bb-46f6-b5eb-81346d0da7a1",
   "metadata": {},
   "outputs": [
    {
     "data": {
      "text/plain": [
       "[(\"trader_joe_'s\", 0.5915745496749878),\n",
       " ('wf', 0.5464296340942383),\n",
       " ('albertsons', 0.5446096062660217),\n",
       " (\"albertson_'s\", 0.5397065877914429),\n",
       " ('harris_teeter', 0.5367621183395386),\n",
       " ('walmart', 0.5301644802093506),\n",
       " (\"aj_'s\", 0.5295321345329285),\n",
       " ('safeway', 0.5174601078033447),\n",
       " ('giant_eagle', 0.5139941573143005),\n",
       " ('costco', 0.5088167786598206)]"
      ]
     },
     "execution_count": 61,
     "metadata": {},
     "output_type": "execute_result"
    }
   ],
   "source": [
    "pv.most_similar(['whole_foods','expensive'],['cheap'])"
   ]
  },
  {
   "cell_type": "code",
   "execution_count": 62,
   "id": "c4d8c6d9-f111-46c8-98fe-ea6d77c1a719",
   "metadata": {},
   "outputs": [
    {
     "data": {
      "text/plain": [
       "[('than', 0.6655198),\n",
       " ('foods', 0.58129144),\n",
       " ('pricey', 0.56459314),\n",
       " ('pricier_than', 0.54588234),\n",
       " ('whole_foods', 0.5415319),\n",
       " ('items', 0.52586424),\n",
       " ('less_expensive_than', 0.50196636),\n",
       " ('whole', 0.50177246),\n",
       " ('smaller_than', 0.49971473),\n",
       " ('much', 0.49261695),\n",
       " ('disappointing', 0.49067587)]"
      ]
     },
     "execution_count": 62,
     "metadata": {},
     "output_type": "execute_result"
    }
   ],
   "source": [
    "find_most_similar_triplet('whole_foods','expensive','cheap', 10)"
   ]
  },
  {
   "cell_type": "code",
   "execution_count": 63,
   "id": "d5e6a2ab-6400-46dc-bd0a-b6cb405f4ec7",
   "metadata": {},
   "outputs": [],
   "source": [
    "from sklearn.decomposition import PCA\n",
    "import matplotlib.pyplot as plt"
   ]
  },
  {
   "cell_type": "code",
   "execution_count": 82,
   "id": "1d417afe-2e2a-41bd-8cc9-0297dba586bb",
   "metadata": {},
   "outputs": [],
   "source": [
    "countries = ['indian','chinese','korean','japanese','thai','italian','mexican','french','mediterranean','vietnam','german']\n",
    "dishes = ['chicken_tikka_masala',]\n",
    "for c in countries[1:]:\n",
    "    d = pv.most_similar(['chicken_tikka_masala',c],['indian'])[0][0]\n",
    "    dishes.append(d)\n",
    "vectors = np.array([pv[key] for key in countries + dishes])"
   ]
  },
  {
   "cell_type": "code",
   "execution_count": 83,
   "id": "3c9d1146-32ac-466a-855d-af58b8e9e1b0",
   "metadata": {},
   "outputs": [
    {
     "data": {
      "text/html": [
       "<style>#sk-container-id-2 {color: black;}#sk-container-id-2 pre{padding: 0;}#sk-container-id-2 div.sk-toggleable {background-color: white;}#sk-container-id-2 label.sk-toggleable__label {cursor: pointer;display: block;width: 100%;margin-bottom: 0;padding: 0.3em;box-sizing: border-box;text-align: center;}#sk-container-id-2 label.sk-toggleable__label-arrow:before {content: \"▸\";float: left;margin-right: 0.25em;color: #696969;}#sk-container-id-2 label.sk-toggleable__label-arrow:hover:before {color: black;}#sk-container-id-2 div.sk-estimator:hover label.sk-toggleable__label-arrow:before {color: black;}#sk-container-id-2 div.sk-toggleable__content {max-height: 0;max-width: 0;overflow: hidden;text-align: left;background-color: #f0f8ff;}#sk-container-id-2 div.sk-toggleable__content pre {margin: 0.2em;color: black;border-radius: 0.25em;background-color: #f0f8ff;}#sk-container-id-2 input.sk-toggleable__control:checked~div.sk-toggleable__content {max-height: 200px;max-width: 100%;overflow: auto;}#sk-container-id-2 input.sk-toggleable__control:checked~label.sk-toggleable__label-arrow:before {content: \"▾\";}#sk-container-id-2 div.sk-estimator input.sk-toggleable__control:checked~label.sk-toggleable__label {background-color: #d4ebff;}#sk-container-id-2 div.sk-label input.sk-toggleable__control:checked~label.sk-toggleable__label {background-color: #d4ebff;}#sk-container-id-2 input.sk-hidden--visually {border: 0;clip: rect(1px 1px 1px 1px);clip: rect(1px, 1px, 1px, 1px);height: 1px;margin: -1px;overflow: hidden;padding: 0;position: absolute;width: 1px;}#sk-container-id-2 div.sk-estimator {font-family: monospace;background-color: #f0f8ff;border: 1px dotted black;border-radius: 0.25em;box-sizing: border-box;margin-bottom: 0.5em;}#sk-container-id-2 div.sk-estimator:hover {background-color: #d4ebff;}#sk-container-id-2 div.sk-parallel-item::after {content: \"\";width: 100%;border-bottom: 1px solid gray;flex-grow: 1;}#sk-container-id-2 div.sk-label:hover label.sk-toggleable__label {background-color: #d4ebff;}#sk-container-id-2 div.sk-serial::before {content: \"\";position: absolute;border-left: 1px solid gray;box-sizing: border-box;top: 0;bottom: 0;left: 50%;z-index: 0;}#sk-container-id-2 div.sk-serial {display: flex;flex-direction: column;align-items: center;background-color: white;padding-right: 0.2em;padding-left: 0.2em;position: relative;}#sk-container-id-2 div.sk-item {position: relative;z-index: 1;}#sk-container-id-2 div.sk-parallel {display: flex;align-items: stretch;justify-content: center;background-color: white;position: relative;}#sk-container-id-2 div.sk-item::before, #sk-container-id-2 div.sk-parallel-item::before {content: \"\";position: absolute;border-left: 1px solid gray;box-sizing: border-box;top: 0;bottom: 0;left: 50%;z-index: -1;}#sk-container-id-2 div.sk-parallel-item {display: flex;flex-direction: column;z-index: 1;position: relative;background-color: white;}#sk-container-id-2 div.sk-parallel-item:first-child::after {align-self: flex-end;width: 50%;}#sk-container-id-2 div.sk-parallel-item:last-child::after {align-self: flex-start;width: 50%;}#sk-container-id-2 div.sk-parallel-item:only-child::after {width: 0;}#sk-container-id-2 div.sk-dashed-wrapped {border: 1px dashed gray;margin: 0 0.4em 0.5em 0.4em;box-sizing: border-box;padding-bottom: 0.4em;background-color: white;}#sk-container-id-2 div.sk-label label {font-family: monospace;font-weight: bold;display: inline-block;line-height: 1.2em;}#sk-container-id-2 div.sk-label-container {text-align: center;}#sk-container-id-2 div.sk-container {/* jupyter's `normalize.less` sets `[hidden] { display: none; }` but bootstrap.min.css set `[hidden] { display: none !important; }` so we also need the `!important` here to be able to override the default hidden behavior on the sphinx rendered scikit-learn.org. See: https://github.com/scikit-learn/scikit-learn/issues/21755 */display: inline-block !important;position: relative;}#sk-container-id-2 div.sk-text-repr-fallback {display: none;}</style><div id=\"sk-container-id-2\" class=\"sk-top-container\"><div class=\"sk-text-repr-fallback\"><pre>PCA(n_components=2)</pre><b>In a Jupyter environment, please rerun this cell to show the HTML representation or trust the notebook. <br />On GitHub, the HTML representation is unable to render, please try loading this page with nbviewer.org.</b></div><div class=\"sk-container\" hidden><div class=\"sk-item\"><div class=\"sk-estimator sk-toggleable\"><input class=\"sk-toggleable__control sk-hidden--visually\" id=\"sk-estimator-id-2\" type=\"checkbox\" checked><label for=\"sk-estimator-id-2\" class=\"sk-toggleable__label sk-toggleable__label-arrow\">PCA</label><div class=\"sk-toggleable__content\"><pre>PCA(n_components=2)</pre></div></div></div></div></div>"
      ],
      "text/plain": [
       "PCA(n_components=2)"
      ]
     },
     "execution_count": 83,
     "metadata": {},
     "output_type": "execute_result"
    }
   ],
   "source": [
    "pca = PCA(n_components=2)\n",
    "pca.fit(vectors)"
   ]
  },
  {
   "cell_type": "code",
   "execution_count": 84,
   "id": "dde0d879-fa21-4821-a71f-d903828493ef",
   "metadata": {},
   "outputs": [],
   "source": [
    "vectors2d = -pca.transform(vectors)"
   ]
  },
  {
   "cell_type": "code",
   "execution_count": 115,
   "id": "94532e68-a662-443f-93b0-99323bd0c987",
   "metadata": {},
   "outputs": [
    {
     "data": {
      "image/png": "[encoded data removed]",
      "text/plain": [
       "<Figure size 640x480 with 1 Axes>"
      ]
     },
     "metadata": {},
     "output_type": "display_data"
    }
   ],
   "source": [
    "l = len(dishes)\n",
    "cxoffsets = -np.ones(l)*4.5\n",
    "cyoffsets = np.zeros(l)-0.3\n",
    "cxoffsets[1] = -5.5\n",
    "cxoffsets[2] = -1\n",
    "cyoffsets[2] = 0.5\n",
    "cxoffsets[3] = -6\n",
    "cxoffsets[4] = -3\n",
    "cyoffsets[4] = -0.3\n",
    "cxoffsets[6] = -6\n",
    "cxoffsets[8] = -9.5\n",
    "cxoffsets[9] = -5\n",
    "cyoffsets[9] = -1\n",
    "cxoffsets[10] = -5.5\n",
    "dxoffsets = np.ones(l)*1\n",
    "dyoffsets = np.zeros(l)-0.3\n",
    "dxoffsets[2] = -4.5\n",
    "dyoffsets[2] = 0.6\n",
    "dyoffsets[5] = -0.3\n",
    "dxoffsets[9] = 0.5\n",
    "dyoffsets[9] = -1\n",
    "dxoffsets[8] = 1\n",
    "dyoffsets[8] = -1.2\n",
    "for i in range(l):\n",
    "    plt.plot(vectors2d[[i,i+l],0],-vectors2d[[i,i+l],1],'--o')\n",
    "    plt.text(vectors2d[i,0]+cxoffsets[i],-vectors2d[i,1]+cyoffsets[i],countries[i])\n",
    "    plt.text(vectors2d[i+l,0]+dxoffsets[i],-vectors2d[i+l,1]+dyoffsets[i],dishes[i])\n",
    "plt.xlim(-20,25)\n",
    "plt.ylim(-15,15)\n",
    "plt.xlabel(\"PCA-1\")\n",
    "plt.ylabel(\"PCA-2\")\n",
    "plt.title(\"Linear Substructure: Region - Dish\")\n",
    "plt.tight_layout()\n",
    "plt.savefig(\"phrase2vec_linear_structure.pdf\")"
   ]
  },
  {
   "cell_type": "code",
   "execution_count": null,
   "id": "7a81bff0-18a7-4be9-916b-9fcfc7a0c45f",
   "metadata": {},
   "outputs": [],
   "source": []
  }
 ],
 "metadata": {
  "kernelspec": {
   "display_name": "Python 3 (ipykernel)",
   "language": "python",
   "name": "python3"
  },
  "language_info": {
   "codemirror_mode": {
    "name": "ipython",
    "version": 3
   },
   "file_extension": ".py",
   "mimetype": "text/x-python",
   "name": "python",
   "nbconvert_exporter": "python",
   "pygments_lexer": "ipython3",
   "version": "3.10.12"
  }
 },
 "nbformat": 4,
 "nbformat_minor": 5
}
